{
  "nbformat": 4,
  "nbformat_minor": 0,
  "metadata": {
    "colab": {
      "provenance": []
    },
    "kernelspec": {
      "name": "python3",
      "display_name": "Python 3"
    },
    "language_info": {
      "name": "python"
    }
  },
  "cells": [
    {
      "cell_type": "code",
      "execution_count": 27,
      "metadata": {
        "colab": {
          "base_uri": "https://localhost:8080/"
        },
        "id": "UouvMibeBBCb",
        "outputId": "0fe767e1-33bc-4063-b08b-b7f8248911da"
      },
      "outputs": [
        {
          "output_type": "stream",
          "name": "stdout",
          "text": [
            "Welcome to credit card or debit card verifier (offline)\n",
            "Enter your 16 digit number without spaces: 6060300378787878\n",
            "card not found\n"
          ]
        }
      ],
      "source": [
        "print(\"Welcome to credit card or debit card verifier (offline)\")\n",
        "card=str(input(\"Enter your 16 digit number without spaces: \"))\n",
        "if len(card)>16 or len(card)<16:\n",
        "  print(\"Length provied error\")\n",
        "else:\n",
        "  cardno = []\n",
        "  for i in card:\n",
        "    cardno.append(int(i))\n",
        "  for i in range(len(cardno)):\n",
        "    if (i % 2) != 0:\n",
        "      cardno[i-1]=cardno[i-1]*2\n",
        "  for i in range(len(cardno)):\n",
        "    if cardno[i]>9:\n",
        "      bo=str(cardno[i])\n",
        "      res=[]\n",
        "      for j in bo:\n",
        "        res.append(int(j))\n",
        "      cardno[i]=sum(res)\n",
        "  if sum(cardno)%10==0:\n",
        "    print(\"The card checks out\")\n",
        "  else:\n",
        "    print(\"card not found\")"
      ]
    }
  ]
}