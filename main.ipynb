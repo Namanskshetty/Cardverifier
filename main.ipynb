{
  "nbformat": 4,
  "nbformat_minor": 0,
  "metadata": {
    "colab": {
      "provenance": []
    },
    "kernelspec": {
      "name": "python3",
      "display_name": "Python 3"
    },
    "language_info": {
      "name": "python"
    }
  },
  "cells": [
    {
      "cell_type": "code",
      "execution_count": 8,
      "metadata": {
        "colab": {
          "base_uri": "https://localhost:8080/"
        },
        "id": "UouvMibeBBCb",
        "outputId": "daef2ac9-1020-48fc-efc3-f7d5bdecdef8"
      },
      "outputs": [
        {
          "output_type": "stream",
          "name": "stdout",
          "text": [
            "Welcome to credit card or debit card verifier (offline)\n",
            "Enter your 16 digit number without spaces: qa2ae6eaea9ee9aa\n",
            "Enter the digits only\n"
          ]
        }
      ],
      "source": [
        "import re\n",
        "reg=\"^[0-9]+$\"\n",
        "print(\"Welcome to credit card or debit card verifier (offline)\")\n",
        "card=str(input(\"Enter your 16 digit number without spaces: \"))\n",
        "go=re.search(reg,card)\n",
        "if len(card)>16 or len(card)<16:\n",
        "  print(\"Length provied error\")\n",
        "elif go==None:\n",
        "  print(\"Enter the digits only\")\n",
        "else:\n",
        "  cardno = []\n",
        "  for i in card:\n",
        "    cardno.append(int(i))\n",
        "  for i in range(len(cardno)):\n",
        "    if (i % 2) != 0:\n",
        "      cardno[i-1]=cardno[i-1]*2\n",
        "  for i in range(len(cardno)):\n",
        "    if cardno[i]>9:\n",
        "      bo=str(cardno[i])\n",
        "      res=[]\n",
        "      for j in bo:\n",
        "        res.append(int(j))\n",
        "      cardno[i]=sum(res)\n",
        "  if sum(cardno)%10==0:\n",
        "    print(\"The card checks out\")\n",
        "  else:\n",
        "    print(\"card not found\")"
      ]
    }
  ]
}